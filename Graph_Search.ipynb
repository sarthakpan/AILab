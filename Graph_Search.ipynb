{
  "nbformat": 4,
  "nbformat_minor": 0,
  "metadata": {
    "colab": {
      "name": "Graph Search",
      "provenance": [],
      "collapsed_sections": []
    },
    "kernelspec": {
      "name": "python3",
      "display_name": "Python 3"
    }
  },
  "cells": [
    {
      "cell_type": "markdown",
      "metadata": {
        "id": "iYQqsrO86Z2G"
      },
      "source": [
        "**Rights Reserved by Sarthak Pan**"
      ]
    },
    {
      "cell_type": "code",
      "metadata": {
        "id": "lE_cw-XfVSuc"
      },
      "source": [
        "from collections import deque\r\n",
        "import heapq\r\n",
        "import numpy as  np"
      ],
      "execution_count": null,
      "outputs": []
    },
    {
      "cell_type": "code",
      "metadata": {
        "id": "Kt1JoJxYVZVY"
      },
      "source": [
        "class Problem:\r\n",
        "    def __init__(self, initial, goal=None):\r\n",
        "        self.initial = initial\r\n",
        "        self.goal = goal\r\n",
        "\r\n",
        "    def actions(self, state):\r\n",
        "        raise NotImplementedError\r\n",
        "\r\n",
        "    def result(self, state, action):\r\n",
        "        raise NotImplementedError\r\n",
        "\r\n",
        "    def goal_test(self, state):\r\n",
        "        if isinstance(self.goal, list):\r\n",
        "            return is_in(state, self.goal)\r\n",
        "        else:\r\n",
        "            return state == self.goal\r\n",
        "\r\n",
        "    def path_cost(self, c, state1, action, state2):\r\n",
        "        return c + 1\r\n",
        "\r\n",
        "    def value(self, state):\r\n",
        "        raise NotImplementedError"
      ],
      "execution_count": null,
      "outputs": []
    },
    {
      "cell_type": "code",
      "metadata": {
        "id": "gc_dNENaVb-c"
      },
      "source": [
        "class Node:\r\n",
        "    def __init__(self, state, parent=None, action=None, path_cost=0):\r\n",
        "        self.state = state\r\n",
        "        self.parent = parent\r\n",
        "        self.action = action\r\n",
        "        self.path_cost = path_cost\r\n",
        "        self.depth = 0\r\n",
        "        if parent:\r\n",
        "            self.depth = parent.depth + 1\r\n",
        "\r\n",
        "    def __repr__(self):\r\n",
        "        return \"<Node {}>\".format(self.state)\r\n",
        "\r\n",
        "    def __lt__(self, node):\r\n",
        "        return self.state < node.state\r\n",
        "    \r\n",
        "    def __len__(self): \r\n",
        "        return 0 if self.parent is None else (1 + len(self.parent))\r\n",
        "\r\n",
        "    def expand(self, problem):\r\n",
        "        return [self.child_node(problem, action)\r\n",
        "                for action in problem.actions(self.state)]\r\n",
        "\r\n",
        "    def child_node(self, problem, action):\r\n",
        "        next_state = problem.result(self.state, action)\r\n",
        "        next_node = Node(next_state, self, action, problem.path_cost(self.path_cost, self.state, action, next_state))\r\n",
        "        return next_node\r\n",
        "\r\n",
        "    def solution(self):\r\n",
        "        return [node.action for node in self.path()[:]]\r\n",
        "\r\n",
        "    def path(self):\r\n",
        "        node, path_back = self, []\r\n",
        "        while node:\r\n",
        "            path_back.append(node)\r\n",
        "            node = node.parent\r\n",
        "        return list(reversed(path_back))\r\n",
        "\r\n",
        "    def __eq__(self, other):\r\n",
        "        return isinstance(other, Node) and self.state == other.state\r\n",
        "\r\n",
        "    def __hash__(self):\r\n",
        "        return hash(self.state)"
      ],
      "execution_count": null,
      "outputs": []
    },
    {
      "cell_type": "code",
      "metadata": {
        "id": "yI_KYjiOWeHL"
      },
      "source": [
        "class Graph:\r\n",
        "    def __init__(self, graph_dict=None, directed=True):\r\n",
        "        self.graph_dict = graph_dict or {}\r\n",
        "        self.directed = directed\r\n",
        "        if not directed:\r\n",
        "            self.make_undirected()\r\n",
        "\r\n",
        "    def make_undirected(self):\r\n",
        "        for a in list(self.graph_dict.keys()):\r\n",
        "            for (b, dist) in self.graph_dict[a].items():\r\n",
        "                self.connect1(b, a, dist)\r\n",
        "\r\n",
        "    def connect(self, A, B, distance=1):\r\n",
        "        self.connect1(A, B, distance)\r\n",
        "        if not self.directed:\r\n",
        "            self.connect1(B, A, distance)\r\n",
        "\r\n",
        "    def connect1(self, A, B, distance):\r\n",
        "        self.graph_dict.setdefault(A, {})[B] = distance\r\n",
        "\r\n",
        "    def get(self, a, b=None):\r\n",
        "        links = self.graph_dict.setdefault(a, {})\r\n",
        "        if b is None:\r\n",
        "            return links\r\n",
        "        else:\r\n",
        "            return links.get(b)\r\n",
        "\r\n",
        "    def nodes(self):\r\n",
        "        s1 = set([k for k in self.graph_dict.keys()])\r\n",
        "        s2 = set([k2 for v in self.graph_dict.values() for k2, v2 in v.items()])\r\n",
        "        nodes = s1.union(s2)\r\n",
        "        return list(nodes)"
      ],
      "execution_count": null,
      "outputs": []
    },
    {
      "cell_type": "code",
      "metadata": {
        "id": "RvLM3SdeXU9U"
      },
      "source": [
        "class GraphProblem(Problem):\r\n",
        "\r\n",
        "    def __init__(self, initial, goal, graph):\r\n",
        "        super().__init__(initial, goal)\r\n",
        "        self.graph = graph\r\n",
        "\r\n",
        "    def actions(self, A):\r\n",
        "        return list(self.graph.get(A).keys())\r\n",
        "\r\n",
        "    def result(self, state, action):\r\n",
        "        return action\r\n",
        "\r\n",
        "    def path_cost(self, cost_so_far, A, action, B):\r\n",
        "        return cost_so_far + (self.graph.get(A, B) or np.inf)\r\n",
        "\r\n",
        "    def find_min_edge(self):\r\n",
        "        m = np.inf\r\n",
        "        for d in self.graph.graph_dict.values():\r\n",
        "            local_min = min(d.values())\r\n",
        "            m = min(m, local_min)\r\n",
        "\r\n",
        "        return m"
      ],
      "execution_count": null,
      "outputs": []
    },
    {
      "cell_type": "code",
      "metadata": {
        "id": "3HZRk6VhvcQT"
      },
      "source": [
        "class PriorityQueue:\r\n",
        "    \"\"\"A queue in which the item with minimum f(item) is always popped first.\"\"\"\r\n",
        "\r\n",
        "    def __init__(self, items=(), key=lambda x: x): \r\n",
        "        self.key = key\r\n",
        "        self.items = [] # a heap of (score, item) pairs\r\n",
        "        for item in items:\r\n",
        "            self.add(item)\r\n",
        "         \r\n",
        "    def add(self, item):\r\n",
        "        \"\"\"Add item to the queuez.\"\"\"\r\n",
        "        pair = (self.key(item), item)\r\n",
        "        heapq.heappush(self.items, pair)\r\n",
        "\r\n",
        "    def pop(self):\r\n",
        "        \"\"\"Pop and return the item with min f(item) value.\"\"\"\r\n",
        "        return heapq.heappop(self.items)[1]\r\n",
        "    \r\n",
        "    def top(self): return self.items[0][1]\r\n",
        "\r\n",
        "    def __len__(self): return len(self.items)"
      ],
      "execution_count": null,
      "outputs": []
    },
    {
      "cell_type": "code",
      "metadata": {
        "id": "YipqCI4IegSB"
      },
      "source": [
        "def is_cycle(node, k=30):\r\n",
        "    \"Does this node form a cycle of length k or less?\"\r\n",
        "    def find_cycle(ancestor, k):\r\n",
        "        return (ancestor is not None and k > 0 and\r\n",
        "                (ancestor.state == node.state or find_cycle(ancestor.parent, k - 1)))\r\n",
        "    return find_cycle(node.parent, k)"
      ],
      "execution_count": null,
      "outputs": []
    },
    {
      "cell_type": "code",
      "metadata": {
        "id": "2XSH_vnvWhoS"
      },
      "source": [
        "def UndirectedGraph(graph_dict=None):\r\n",
        "    return Graph(graph_dict=graph_dict, directed=False)"
      ],
      "execution_count": null,
      "outputs": []
    },
    {
      "cell_type": "code",
      "metadata": {
        "id": "nZc4VmGVZEm0"
      },
      "source": [
        "def w_input():\r\n",
        "    g = {}\r\n",
        "    while(True):\r\n",
        "        p = input(\"Enter Parrent (type exit to end) \")\r\n",
        "        if p == 'exit':\r\n",
        "            break\r\n",
        "        else:\r\n",
        "            print(\"Enter child nodes of \" + p)\r\n",
        "            c = input().split(' ')\r\n",
        "            g[p] = dict(zip(c[0::2], map(int,c[1::2]))) \r\n",
        "    return g"
      ],
      "execution_count": null,
      "outputs": []
    },
    {
      "cell_type": "code",
      "metadata": {
        "id": "BsjHDsAmZI4o"
      },
      "source": [
        "def unw_input():\r\n",
        "    g = {}\r\n",
        "    while(True):\r\n",
        "        p = input(\"Enter Parrent (type exit to end) \")\r\n",
        "        if p == 'exit':\r\n",
        "            break\r\n",
        "        else:\r\n",
        "            print(\"Enter child nodes of \" + p)\r\n",
        "            c = input().split(' ')\r\n",
        "            g[p]=dict.fromkeys(c , 1)\r\n",
        "    return g"
      ],
      "execution_count": null,
      "outputs": []
    },
    {
      "cell_type": "markdown",
      "metadata": {
        "id": "kJTn-cPV4LvK"
      },
      "source": [
        "Input"
      ]
    },
    {
      "cell_type": "code",
      "metadata": {
        "id": "nWXkstsz0haM",
        "colab": {
          "base_uri": "https://localhost:8080/"
        },
        "outputId": "561112f6-6b01-4b63-a2f7-ad6605860e62"
      },
      "source": [
        "dir = int(input(\"Weighted-0/Unweighted-1? \"))\r\n",
        "if dir == 1:\r\n",
        "    my_graph = UndirectedGraph(unw_input())\r\n",
        "    start, goal = input(\"Enter start, goal \").split(' ')\r\n",
        "    my_graph_problem = GraphProblem(start, goal, my_graph)\r\n",
        "elif dir == 0:\r\n",
        "    my_graph = UndirectedGraph(w_input())\r\n",
        "    start, goal = input(\"Enter start, goal \").split(' ')\r\n",
        "    my_graph_problem = GraphProblem(start, goal, my_graph)"
      ],
      "execution_count": null,
      "outputs": [
        {
          "output_type": "stream",
          "text": [
            "Weighted-0/Unweighted-1? 0\n",
            "Enter Parrent (type exit to end) a\n",
            "Enter child nodes of a\n",
            "b 4 c 3\n",
            "Enter Parrent (type exit to end) b\n",
            "Enter child nodes of b\n",
            "f 5 e 12\n",
            "Enter Parrent (type exit to end) c\n",
            "Enter child nodes of c\n",
            "d 7 e 10\n",
            "Enter Parrent (type exit to end) d\n",
            "Enter child nodes of d\n",
            "e 2\n",
            "Enter Parrent (type exit to end) e\n",
            "Enter child nodes of e\n",
            "z 5\n",
            "Enter Parrent (type exit to end) f\n",
            "Enter child nodes of f\n",
            "z 16\n",
            "Enter Parrent (type exit to end) exit\n",
            "Enter start, goala z\n"
          ],
          "name": "stdout"
        }
      ]
    },
    {
      "cell_type": "code",
      "metadata": {
        "id": "xwpWJqZ3WM-z"
      },
      "source": [
        "## Quick Execution Only\r\n",
        "sample_graph = {\r\n",
        "    1 : {2:1,3:1,4:1},\r\n",
        "    2:{5:1,6:1},\r\n",
        "    3:{7:1},\r\n",
        "    4:{8:1},\r\n",
        "    8:{9:1,10:1},\r\n",
        "    10:{11:1,12:1,13:1}\r\n",
        "}\r\n",
        "my_graph = UndirectedGraph(sample_graph)\r\n",
        "my_graph_problem = GraphProblem(1, 12, my_graph)"
      ],
      "execution_count": null,
      "outputs": []
    },
    {
      "cell_type": "code",
      "metadata": {
        "id": "--FKhPypB3Lo"
      },
      "source": [
        "## Quick Execution Only Weighted Graph\r\n",
        "sample_graph = {\r\n",
        "    'a' : {'b':4,'c':3},\r\n",
        "    'b':{'f':5,'e':12},\r\n",
        "    'c':{'d':7,'e':10},\r\n",
        "    'd':{'e':2},\r\n",
        "    'e':{'z':5},\r\n",
        "    'f':{'z':16}\r\n",
        "}\r\n",
        "my_graph = UndirectedGraph(sample_graph)\r\n",
        "my_graph_problem = GraphProblem('a', 'z', my_graph)"
      ],
      "execution_count": null,
      "outputs": []
    },
    {
      "cell_type": "markdown",
      "metadata": {
        "id": "YDViSGHUB3wy"
      },
      "source": [
        "![image.png](data:image/png;base64,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)"
      ]
    },
    {
      "cell_type": "markdown",
      "metadata": {
        "id": "Jc4z8QvT4Akp"
      },
      "source": [
        "Uninformed Search"
      ]
    },
    {
      "cell_type": "code",
      "metadata": {
        "id": "fxOQ8lVoV0Uj"
      },
      "source": [
        "def depth_first_graph_search(problem):\r\n",
        "    order = {k : 0 for k in problem.graph.nodes()}\r\n",
        "    frontier = [(Node(problem.initial))]  # Stack\r\n",
        "    \r\n",
        "    order[Node(problem.initial).state] = 1\r\n",
        "    count = 2\r\n",
        "\r\n",
        "    explored = set()\r\n",
        "    while frontier:\r\n",
        "        node = frontier.pop()\r\n",
        "        if order[node.state] == 0:\r\n",
        "            order[node.state] = count\r\n",
        "            count+=1\r\n",
        "\r\n",
        "        if problem.goal_test(node.state):\r\n",
        "            if order[node.state] == 0:\r\n",
        "                order[node.state] = count\r\n",
        "                count+=1\r\n",
        "            return (order,[problem.initial]+node.solution())\r\n",
        "        explored.add(node.state)\r\n",
        "        frontier.extend(child for child in node.expand(problem)[::-1]\r\n",
        "                        if child.state not in explored and child not in frontier)\r\n",
        "\r\n",
        "        if order[node.state] == 0:\r\n",
        "            order[node.state] = count\r\n",
        "            count+=1\r\n",
        "    return None, None"
      ],
      "execution_count": null,
      "outputs": []
    },
    {
      "cell_type": "code",
      "metadata": {
        "colab": {
          "base_uri": "https://localhost:8080/"
        },
        "id": "nnRDurRev-d6",
        "outputId": "d7e82610-69ac-4ab7-f668-73a2f36a0dd4"
      },
      "source": [
        "order, path = depth_first_graph_search(my_graph_problem)\r\n",
        "print(\"order: \",[each[0] for each in sorted([x for x in order.items() if x[1]], key=lambda kv: kv[1])])\r\n",
        "print(\"path: \",path)"
      ],
      "execution_count": null,
      "outputs": [
        {
          "output_type": "stream",
          "text": [
            "order:  ['a', 'b', 'f', 'z']\n",
            "path:  ['a', 'b', 'f', 'z']\n"
          ],
          "name": "stdout"
        }
      ]
    },
    {
      "cell_type": "code",
      "metadata": {
        "id": "MIzIBn1jVmSc"
      },
      "source": [
        "def breadth_first_graph_search(problem):\r\n",
        "    order = {k : 0 for k in problem.graph.nodes()}\r\n",
        "    node = Node(problem.initial)\r\n",
        "    order[node.state] = 1\r\n",
        "    count = 2\r\n",
        "\r\n",
        "    if problem.goal_test(node.state):\r\n",
        "        return (order, node)\r\n",
        "    frontier = deque([node])\r\n",
        "\r\n",
        "    explored = set()\r\n",
        "    while frontier:\r\n",
        "        node = frontier.popleft()\r\n",
        "        if order[node.state] == 0:\r\n",
        "            order[node.state] = count\r\n",
        "            count+=1\r\n",
        "        explored.add(node.state)\r\n",
        "        for child in node.expand(problem):\r\n",
        "            if child.state not in explored and child not in frontier:\r\n",
        "                if problem.goal_test(child.state):\r\n",
        "                    if order[child.state] == 0:\r\n",
        "                        order[child.state] = count\r\n",
        "                        count+=1\r\n",
        "                    return (order, [problem.initial]+child.solution())\r\n",
        "                frontier.append(child)\r\n",
        "                if order[child.state] == 0:\r\n",
        "                    order[child.state] = count\r\n",
        "                    count+=1\r\n",
        "        if order[node.state] == 0:\r\n",
        "            order[node.state] = count\r\n",
        "            count+=1\r\n",
        "    return None"
      ],
      "execution_count": null,
      "outputs": []
    },
    {
      "cell_type": "code",
      "metadata": {
        "colab": {
          "base_uri": "https://localhost:8080/"
        },
        "id": "TlDukB5etp_9",
        "outputId": "7420d8d3-6524-46d3-8ffe-fe63e007cbe2"
      },
      "source": [
        "order, path = breadth_first_graph_search(my_graph_problem)\r\n",
        "print(\"order: \",[each[0] for each in sorted([x for x in order.items() if x[1]], key=lambda kv: kv[1])])\r\n",
        "print(\"path: \",path)"
      ],
      "execution_count": null,
      "outputs": [
        {
          "output_type": "stream",
          "text": [
            "order:  ['a', 'b', 'c', 'f', 'e', 'd', 'z']\n",
            "path:  ['a', 'b', 'f', 'z']\n"
          ],
          "name": "stdout"
        }
      ]
    },
    {
      "cell_type": "code",
      "metadata": {
        "id": "rh30OOx3VbJ_"
      },
      "source": [
        "def depth_limited_search(problem, limit=10):\r\n",
        "    order = {k : 0 for k in problem.graph.nodes()}\r\n",
        "    frontier = [(Node(problem.initial))]  # Stack\r\n",
        "    \r\n",
        "    order[Node(problem.initial).state] = 1\r\n",
        "    count = 2\r\n",
        "\r\n",
        "    explored = set()\r\n",
        "    while frontier:\r\n",
        "        node = frontier.pop()\r\n",
        "        if order[node.state] == 0:\r\n",
        "            order[node.state] = count\r\n",
        "            count+=1\r\n",
        "\r\n",
        "        if problem.goal_test(node.state):\r\n",
        "            if order[node.state] == 0:\r\n",
        "                order[node.state] = count\r\n",
        "                count+=1\r\n",
        "            return (order,[problem.initial]+node.solution())\r\n",
        "\r\n",
        "        if len(node) >= limit:\r\n",
        "            return None, None\r\n",
        "\r\n",
        "        explored.add(node.state)\r\n",
        "        frontier.extend(child for child in node.expand(problem)[::-1]\r\n",
        "                        if child.state not in explored and child not in frontier)\r\n",
        "\r\n",
        "        if order[node.state] == 0:\r\n",
        "                order[node.state] = count\r\n",
        "                count+=1\r\n",
        "    return None, None"
      ],
      "execution_count": null,
      "outputs": []
    },
    {
      "cell_type": "code",
      "metadata": {
        "colab": {
          "base_uri": "https://localhost:8080/"
        },
        "id": "4ETJgwoIa6Go",
        "outputId": "ebacc8df-2a35-4928-e1a6-c7fc81ae8358"
      },
      "source": [
        "order, path = depth_limited_search(my_graph_problem,limit=3)\r\n",
        "if path == None:\r\n",
        "    print(\"Goal not reached\")\r\n",
        "else:\r\n",
        "    print(\"order: \",[each[0] for each in sorted([x for x in order.items() if x[1]], key=lambda kv: kv[1])])\r\n",
        "    print(\"path: \",path)"
      ],
      "execution_count": null,
      "outputs": [
        {
          "output_type": "stream",
          "text": [
            "order:  ['a', 'b', 'f', 'z']\n",
            "path:  ['a', 'b', 'f', 'z']\n"
          ],
          "name": "stdout"
        }
      ]
    },
    {
      "cell_type": "code",
      "metadata": {
        "id": "qpOPxRXudH7r"
      },
      "source": [
        "def iterative_deepening_search(problem,depth):\r\n",
        "    for limit in range(1, depth+1):\r\n",
        "        order, path = depth_limited_search(problem, limit)\r\n",
        "        if path == None:\r\n",
        "            print(\"Goal not reached\")\r\n",
        "        else:\r\n",
        "            print(\"order: \",[each[0] for each in sorted([x for x in order.items() if x[1]], key=lambda kv: kv[1])])\r\n",
        "            print(\"path: \",path)"
      ],
      "execution_count": null,
      "outputs": []
    },
    {
      "cell_type": "code",
      "metadata": {
        "colab": {
          "base_uri": "https://localhost:8080/"
        },
        "id": "Ywi1nGb_mg9B",
        "outputId": "d7545f48-3b17-4e8f-f62b-68796ede4467"
      },
      "source": [
        "iterative_deepening_search(my_graph_problem,depth=3) #show all itr"
      ],
      "execution_count": null,
      "outputs": [
        {
          "output_type": "stream",
          "text": [
            "Goal not reached\n",
            "Goal not reached\n",
            "order:  ['a', 'b', 'f', 'z']\n",
            "path:  ['a', 'b', 'f', 'z']\n"
          ],
          "name": "stdout"
        }
      ]
    },
    {
      "cell_type": "markdown",
      "metadata": {
        "id": "AGyHlgCv380f"
      },
      "source": [
        "Informed Search"
      ]
    },
    {
      "cell_type": "code",
      "metadata": {
        "id": "j3ZqIwnam83A"
      },
      "source": [
        "def best_first_search(problem, f):\r\n",
        "    \"Search nodes with minimum f(node) value first.\"\r\n",
        "    order = {k : 0 for k in problem.graph.nodes()}\r\n",
        "    node = Node(problem.initial)\r\n",
        "    order[Node(problem.initial).state] = 1\r\n",
        "    count = 2\r\n",
        "    frontier = PriorityQueue([node], key=f)\r\n",
        "    reached = {problem.initial: node}\r\n",
        "    while frontier:\r\n",
        "        node = frontier.pop()\r\n",
        "        if order[node.state] == 0:\r\n",
        "            order[node.state] = count\r\n",
        "            count+=1\r\n",
        "        if problem.goal_test(node.state):\r\n",
        "            if order[node.state] == 0:\r\n",
        "                    order[node.state] = count\r\n",
        "                    count+=1\r\n",
        "            return (order,[problem.initial]+node.solution())\r\n",
        "        for child in node.expand(problem):\r\n",
        "            s = child.state\r\n",
        "            if s not in reached or child.path_cost < reached[s].path_cost:\r\n",
        "                reached[s] = child\r\n",
        "                frontier.add(child)\r\n",
        "        if order[node.state] == 0:\r\n",
        "                order[node.state] = count\r\n",
        "                count+=1\r\n",
        "    return None, None\r\n"
      ],
      "execution_count": null,
      "outputs": []
    },
    {
      "cell_type": "code",
      "metadata": {
        "id": "9fpT7rr-9EMt"
      },
      "source": [
        "def g(n): \r\n",
        "    return n.path_cost\r\n",
        "def h(n):\r\n",
        "    index = n.state\r\n",
        "    H = {'a':14,'b':12,'c':11,'d':6,'e':4,'f':11,'z':0}\r\n",
        "    return H[index]"
      ],
      "execution_count": null,
      "outputs": []
    },
    {
      "cell_type": "code",
      "metadata": {
        "id": "Cbk6otWOugHL"
      },
      "source": [
        "def greedy_bfs(problem, h=None):\r\n",
        "    \"\"\"Search nodes with minimum h(n).\"\"\"\r\n",
        "    return best_first_search(problem, f=h)"
      ],
      "execution_count": null,
      "outputs": []
    },
    {
      "cell_type": "code",
      "metadata": {
        "colab": {
          "base_uri": "https://localhost:8080/"
        },
        "id": "GvFOqrb9uk92",
        "outputId": "cff2013b-89a8-42a7-da9a-39037f635dba"
      },
      "source": [
        "order, path = greedy_bfs(my_graph_problem,h)\r\n",
        "if path == None:\r\n",
        "    print(\"Goal not reached\") \r\n",
        "else:\r\n",
        "    print(\"order: \",[each[0] for each in sorted([x for x in order.items() if x[1]], key=lambda kv: kv[1])])\r\n",
        "    print(\"path: \",path)"
      ],
      "execution_count": null,
      "outputs": [
        {
          "output_type": "stream",
          "text": [
            "order:  ['a', 'c', 'e', 'z']\n",
            "path:  ['a', 'c', 'e', 'z']\n"
          ],
          "name": "stdout"
        }
      ]
    },
    {
      "cell_type": "code",
      "metadata": {
        "id": "O0oekGN414mo"
      },
      "source": [
        "def astar_search(problem, h,g):\r\n",
        "    \"\"\"Search nodes with minimum f(n) = g(n) + h(n).\"\"\"\r\n",
        "    return best_first_search(problem, f=lambda n: g(n) + h(n))"
      ],
      "execution_count": null,
      "outputs": []
    },
    {
      "cell_type": "code",
      "metadata": {
        "colab": {
          "base_uri": "https://localhost:8080/"
        },
        "id": "4PgJX7KE6XJ-",
        "outputId": "8109bc51-109b-4f3b-da07-0af28f7cca9b"
      },
      "source": [
        "order, path = astar_search(my_graph_problem,h,g) #print cost\r\n",
        "if path == None:\r\n",
        "    print(\"Goal not reached\")\r\n",
        "else:\r\n",
        "    print(\"order: \",[each[0] for each in sorted([x for x in order.items() if x[1]], key=lambda kv: kv[1])])\r\n",
        "    print(\"path: \",path)"
      ],
      "execution_count": null,
      "outputs": [
        {
          "output_type": "stream",
          "text": [
            "order:  ['a', 'c', 'b', 'd', 'e', 'z']\n",
            "path:  ['a', 'c', 'd', 'e', 'z']\n"
          ],
          "name": "stdout"
        }
      ]
    },
    {
      "cell_type": "code",
      "metadata": {
        "id": "0IUSDg6x6bN2"
      },
      "source": [
        "def uniform_cost_search(problem,g):\r\n",
        "    \"Search nodes with minimum path cost first.\"\r\n",
        "    return best_first_search(problem, f=g)"
      ],
      "execution_count": null,
      "outputs": []
    },
    {
      "cell_type": "code",
      "metadata": {
        "colab": {
          "base_uri": "https://localhost:8080/"
        },
        "id": "iJPazQU-FTvB",
        "outputId": "88d3ae4d-cb4a-4b65-d06a-1fe57aaa3e49"
      },
      "source": [
        "order, path = uniform_cost_search(my_graph_problem,g)\r\n",
        "if path == None:\r\n",
        "    print(\"Goal not reached\")\r\n",
        "else:\r\n",
        "    print(\"order: \",[each[0] for each in sorted([x for x in order.items() if x[1]], key=lambda kv: kv[1])])\r\n",
        "    print(\"path: \",path)"
      ],
      "execution_count": null,
      "outputs": [
        {
          "output_type": "stream",
          "text": [
            "order:  ['a', 'c', 'b', 'f', 'd', 'e', 'z']\n",
            "path:  ['a', 'c', 'd', 'e', 'z']\n"
          ],
          "name": "stdout"
        }
      ]
    },
    {
      "cell_type": "code",
      "metadata": {
        "id": "08LpwiLMRyh_"
      },
      "source": [
        ""
      ],
      "execution_count": null,
      "outputs": []
    }
  ]
}